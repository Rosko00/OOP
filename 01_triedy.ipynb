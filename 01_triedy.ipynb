# Pre vytvorenie triedy v Pythone používame kľúčové slovíčko class s názvom triedy, ktorý by mal začínať veľkým písmenom
class Zamestnanci:# Názov triedy je: Zamestnanci
    pass
