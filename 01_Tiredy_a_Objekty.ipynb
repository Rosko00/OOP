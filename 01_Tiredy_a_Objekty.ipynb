{
 "cells": [
  {
   "cell_type": "markdown",
   "metadata": {},
   "source": [
    "# Triedy a Objekty"
   ]
  },
  {
   "cell_type": "markdown",
   "metadata": {},
   "source": [
    "- Pre vytvorenie triedy v Pythone používame kľúčové slovíčko class\n",
    "- Názov triedy by mal začínať veľmým písmenom\n",
    "- Na názvy tried sa používa CamelCase.\n",
    "\n",
    "CamelCase je metóda kde každé slovo začína veľkým písmenom a nepoužívame medzery ani podtržník"
   ]
  },
  {
   "cell_type": "markdown",
   "metadata": {},
   "source": [
    "### Jednoduchá trieda"
   ]
  },
  {
   "cell_type": "code",
   "execution_count": null,
   "metadata": {},
   "outputs": [],
   "source": [
    "class Zamestnanci:\n",
    "    pass"
   ]
  },
  {
   "cell_type": "markdown",
   "metadata": {},
   "source": [
    "- Takto sme vytvorili triedu, ktorá je úplne prázdna a nerobí nič. \n",
    "- Neznamená to, že by sme nomohli vytvoriť objekt z tejto triedy.\n",
    "- Ten vytvoríme zavolaním triedy a jej obsah vložíme do premennej."
   ]
  },
  {
   "cell_type": "code",
   "execution_count": null,
   "metadata": {},
   "outputs": [],
   "source": [
    "obj = Zamestnanci ()\n",
    "type (obj)"
   ]
  },
  {
   "cell_type": "markdown",
   "metadata": {},
   "source": [
    "### Funkcia dir ()\n",
    "\n",
    "- Funkcia vracia všetky vlastnosti a metódy zadaného objektu bez hodnôt."
   ]
  },
  {
   "cell_type": "code",
   "execution_count": null,
   "metadata": {},
   "outputs": [],
   "source": [
    "dir (obj)"
   ]
  },
  {
   "cell_type": "markdown",
   "metadata": {},
   "source": [
    "### Telo metódy\n",
    "\n",
    "- Telo triedy pozostáva väčšinou z jednej hlavnej metódy.\n",
    "- Hlavnú metódu definujeme podľa slovíčka def a názvu.\n",
    "- Trieda nesie niekoľko parametrov ale jeden je povinný."
   ]
  },
  {
   "cell_type": "markdown",
   "metadata": {},
   "source": [
    "### Konštruktor"
   ]
  },
  {
   "cell_type": "code",
   "execution_count": null,
   "metadata": {},
   "outputs": [],
   "source": [
    "class Zamestnanci:\n",
    "    def __init__(self,name_conti, surname_conti, id_conti, zmena_conti):\n",
    "        self.name = name_conti\n",
    "        self.surname = surname_conti\n",
    "        self.id = id_conti\n",
    "        self.zmena = zmena_conti"
   ]
  },
  {
   "cell_type": "markdown",
   "metadata": {},
   "source": [
    "- Do konštruktoru posielame premenné ktoré budú definovať stav objektu\n",
    "- Do tela konštruktoru:\n",
    "    * definujem stav objekt"
   ]
  },
  {
   "cell_type": "markdown",
   "metadata": {},
   "source": [
    "### Správanie obkeltu\n",
    "\n",
    "- Správanie objektu sa definuje mimo konštruktoru pomocov metód alebo funkcií\n",
    "- Kľúčové slovíčko je def\n",
    "- Kľúčová funkcia pozostáva z názvu a definície parametrov\n",
    "- Na názvy používame snake_case\n",
    "\n",
    "snake_case je konvencia pomenovanie premenných, kde je každé slovo napísané malými písmenami a oddelené podčiarkovníkom"
   ]
  },
  {
   "cell_type": "code",
   "execution_count": 5,
   "metadata": {},
   "outputs": [],
   "source": [
    "class Zamestnanci:\n",
    "    def __init__ (self,name_conti, surname_conti, id_conti, zmena_conti):\n",
    "        self.name = name_conti\n",
    "        self.surname = surname_conti\n",
    "        self.id = id_conti\n",
    "        self.zmena = zmena_conti\n",
    "    def untroduce_yourself(self):\n",
    "        print (f'Ahoj ja som {self.name}')"
   ]
  },
  {
   "cell_type": "markdown",
   "metadata": {},
   "source": [
    "### Praktická časť"
   ]
  },
  {
   "cell_type": "markdown",
   "metadata": {},
   "source": [
    "Definícia tretriedy"
   ]
  },
  {
   "cell_type": "code",
   "execution_count": 9,
   "metadata": {},
   "outputs": [
    {
     "name": "stdout",
     "output_type": "stream",
     "text": [
      "Moje meno je Marian\n"
     ]
    }
   ],
   "source": [
    "class Personnel: \n",
    "    name = \"Marian\"\n",
    "    def print_name ():\n",
    "        print (f'Moje meno je {Personnel.name}')\n",
    "        \n",
    "Personnel.print_name()\n",
    "    "
   ]
  },
  {
   "cell_type": "markdown",
   "metadata": {},
   "source": [
    "Trieda s popisom osoby"
   ]
  },
  {
   "cell_type": "code",
   "execution_count": 11,
   "metadata": {},
   "outputs": [
    {
     "name": "stdout",
     "output_type": "stream",
     "text": [
      "Ahoj ja som Marian Galik pracujem na zmene X moje osobné číslo je: 18572\n"
     ]
    }
   ],
   "source": [
    "class Personnel:\n",
    "    def __init__ (self, name, surname, work_shift, id, ):\n",
    "        self.name = name\n",
    "        self.surname = surname\n",
    "        self.work_shift = work_shift\n",
    "        self.id = id\n",
    "    def introduce_yourself(self):\n",
    "        print (f'Ahoj ja som {self.name} {self.surname} pracujem na zmene {self.work_shift} moje osobné číslo je: {self.id}')\n",
    "        \n",
    "x = Personnel ('Marian', 'Galik','X','18572' )\n",
    "x.introduce_yourself()"
   ]
  },
  {
   "cell_type": "markdown",
   "metadata": {},
   "source": [
    "Volanie v konštruktore"
   ]
  },
  {
   "cell_type": "code",
   "execution_count": 12,
   "metadata": {},
   "outputs": [
    {
     "name": "stdout",
     "output_type": "stream",
     "text": [
      "Ahoj ja som Marian Galik pracujem na zmene X moje osobné číslo je: 18572\n"
     ]
    }
   ],
   "source": [
    "class Personnel:\n",
    "    def __init__ (self, name, surname, work_shift, id):\n",
    "        self.name = name\n",
    "        self.surname = surname\n",
    "        self.work_shift = work_shift\n",
    "        self.id = id\n",
    "        self.introduce_yourself ()\n",
    "    def introduce_yourself (self):\n",
    "        print (f'Ahoj ja som {self.name} {self.surname} pracujem na zmene {self.work_shift} moje osobné číslo je: {self.id}')\n",
    "x = Personnel ('Marian', 'Galik','X','18572')\n",
    "        "
   ]
  }
 ],
 "metadata": {
  "kernelspec": {
   "display_name": "Python 3",
   "language": "python",
   "name": "python3"
  },
  "language_info": {
   "codemirror_mode": {
    "name": "ipython",
    "version": 3
   },
   "file_extension": ".py",
   "mimetype": "text/x-python",
   "name": "python",
   "nbconvert_exporter": "python",
   "pygments_lexer": "ipython3",
   "version": "3.8.10"
  }
 },
 "nbformat": 4,
 "nbformat_minor": 2
}
